{
 "cells": [
  {
   "cell_type": "code",
   "execution_count": 2,
   "id": "6c8e575c",
   "metadata": {},
   "outputs": [
    {
     "name": "stdout",
     "output_type": "stream",
     "text": [
      "5\n",
      "6\n",
      "7\n",
      "8\n"
     ]
    }
   ],
   "source": [
    "\n",
    "inicio=int(input(\"Inserte un número\"))\n",
    "fin=int(input(\"Inserte un segundo numero\"))\n",
    "\n",
    "for n in range(inicio+1,fin):\n",
    "    print(n)"
   ]
  },
  {
   "cell_type": "code",
   "execution_count": 20,
   "id": "8aa1d745",
   "metadata": {},
   "outputs": [
    {
     "name": "stdout",
     "output_type": "stream",
     "text": [
      "1\n",
      "2\n",
      "3\n",
      "4\n",
      "5\n",
      "6\n",
      "7\n",
      "8\n",
      "9\n",
      "10\n",
      "11\n",
      "12\n",
      "13\n",
      "14\n",
      "15\n",
      "16\n",
      "17\n",
      "18\n",
      "19\n",
      "20\n",
      "21\n",
      "22\n",
      "23\n",
      "24\n",
      "25\n",
      "26\n",
      "27\n",
      "28\n",
      "29\n",
      "30\n",
      "31\n",
      "32\n",
      "33\n",
      "34\n",
      "35\n",
      "36\n",
      "37\n",
      "38\n",
      "39\n",
      "40\n",
      "41\n",
      "42\n",
      "43\n",
      "44\n",
      "45\n",
      "46\n",
      "47\n",
      "48\n",
      "49\n",
      "50\n",
      "51\n",
      "52\n",
      "53\n",
      "54\n",
      "55\n",
      "56\n",
      "57\n",
      "58\n",
      "59\n",
      "60\n",
      "61\n",
      "62\n",
      "63\n"
     ]
    }
   ],
   "source": [
    "\n",
    "coloniaa=4\n",
    "coloniab=10\n",
    "contador=0\n",
    "\n",
    "\n",
    "while coloniaa<=coloniab:\n",
    "    coloniaa=(coloniaa*0.03)+coloniaa\n",
    "    #print(coloniaa)\n",
    "    \n",
    "    \n",
    "    coloniab=(coloniab*0.015)+coloniab\n",
    "    contador+=1\n",
    "\n",
    "    print(contador)\n"
   ]
  },
  {
   "cell_type": "code",
   "execution_count": null,
   "id": "d05efafa",
   "metadata": {},
   "outputs": [
    {
     "name": "stdout",
     "output_type": "stream",
     "text": [
      "Ingresó un, 3\n",
      "Ingresó un, 4\n",
      "Ingresó un, 5\n",
      "Ingresó un, 3\n",
      "Ingresó un, 2\n",
      "Ingresó un, 1\n",
      "Ingresó un, 4\n",
      "Ingresó un, 5\n",
      "Ingresó un, 3\n",
      "Ingresó un, 1\n",
      "Ingrese un numero valido\n",
      "Ingresó un, 4\n",
      "Ingresó un, 3\n",
      "Ingresó un, 4\n",
      "Ingresó un, 5\n",
      "Ingresó un, 2\n",
      "Ingresó un, 2\n"
     ]
    }
   ],
   "source": [
    "contador=1\n",
    "while contador<=15:\n",
    "    evaluacion=int(input(\"Inserte la evaluación\"))\n",
    "    if 0<=evaluacion<=5:\n",
    "        contador+=1\n",
    "        print(\"Ingresó un,\", evaluacion)\n",
    "    else:\n",
    "        print(\"Ingrese un numero valido\")"
   ]
  },
  {
   "cell_type": "code",
   "execution_count": 4,
   "id": "cdd471d3",
   "metadata": {},
   "outputs": [
    {
     "name": "stdout",
     "output_type": "stream",
     "text": [
      "La temperatura promedio es,  4.0\n",
      "La temperatura promedio es,  4.5\n",
      "La temperatura promedio es,  3.75\n",
      "La temperatura promedio es,  4.375\n",
      "La temperatura promedio es,  3.6875\n",
      "La temperatura promedio es,  5.84375\n",
      "La temperatura promedio es,  7.421875\n",
      "La temperatura promedio es,  33.2109375\n",
      "La temperatura promedio es,  66.10546875\n",
      "La temperatura promedio final es,  66.10546875 se ha detenido porque ingresó -273C\n"
     ]
    }
   ],
   "source": [
    "t=0\n",
    "contador=0\n",
    "t=int(input(\"Inserte la temperatura en celsius\"))\n",
    "tnuevo=(t)\n",
    "while t!=-273:\n",
    "    tnuevo=(tnuevo+t)/2\n",
    "    print(\"La temperatura promedio es, \",tnuevo)\n",
    "    t=int(input(\"Inserte la temperatura en celsius\"))\n",
    "    contador+=1\n",
    "print(\"La temperatura promedio final es, \",tnuevo,\"se ha detenido porque ingresó -273C\")\n",
    "    \n",
    "    \n",
    "    "
   ]
  },
  {
   "cell_type": "code",
   "execution_count": 28,
   "id": "f4533982",
   "metadata": {},
   "outputs": [
    {
     "name": "stdout",
     "output_type": "stream",
     "text": [
      "30\n",
      "120\n",
      "360\n",
      "720\n",
      "720\n"
     ]
    }
   ],
   "source": [
    "factorial=(int(input(\"Inserte un numero\")))\n",
    "resultado=factorial\n",
    "for factorial2 in range(factorial,1,-1):\n",
    "\n",
    "    resultado=resultado*(factorial2-1)\n",
    "    print(resultado)\n",
    "\n",
    "\n"
   ]
  },
  {
   "cell_type": "code",
   "execution_count": 2,
   "id": "2dc50aed",
   "metadata": {},
   "outputs": [
    {
     "name": "stdout",
     "output_type": "stream",
     "text": [
      "6 X  1 =  6\n",
      "6 X  2 =  12\n",
      "6 X  3 =  18\n",
      "6 X  4 =  24\n",
      "6 X  5 =  30\n",
      "6 X  6 =  36\n",
      "6 X  7 =  42\n",
      "6 X  8 =  48\n",
      "6 X  9 =  54\n",
      "6 X  10 =  60\n"
     ]
    }
   ],
   "source": [
    "multiplicar=int(input(\"Inserte el numero a multiplicar\"))\n",
    "resultado=0\n",
    "\n",
    "for n in range(1,11):\n",
    "\n",
    "    resultado=multiplicar*n\n",
    "    print(multiplicar, \"X \", n, \"= \", resultado)\n"
   ]
  },
  {
   "cell_type": "code",
   "execution_count": 48,
   "id": "6ee8aac6",
   "metadata": {},
   "outputs": [
    {
     "name": "stdout",
     "output_type": "stream",
     "text": [
      "Iteracion numero 2\n",
      "Resultado de la division 272.5\n",
      "Residuo,  1\n",
      "Iteracion numero 3\n",
      "Resultado de la division 181.66666666666666\n",
      "Residuo,  2\n",
      "Iteracion numero 4\n",
      "Resultado de la division 136.25\n",
      "Residuo,  1\n",
      "Iteracion numero 5\n",
      "Resultado de la division 109.0\n",
      "Residuo,  0\n",
      "El numero no es primo\n"
     ]
    }
   ],
   "source": [
    "primo=int(input(\"Inserte un numero primo\"))\n",
    "n=1\n",
    "residuo=1\n",
    "for n in range (1,primo-1):\n",
    "    n+=1\n",
    "    residuo= primo%n\n",
    "\n",
    "   \n",
    "    print(\"Iteracion numero\" ,n)\n",
    "    print(\"Resultado de la division\", primo/n)\n",
    "    print(\"Residuo, \",residuo)\n",
    "\n",
    "    if residuo==0:\n",
    "        print(\"El numero no es primo\")\n",
    "        break\n",
    "\n",
    "if residuo!=0:\n",
    "    print(\"El numero es primo\")"
   ]
  },
  {
   "cell_type": "code",
   "execution_count": null,
   "id": "68d94d46",
   "metadata": {},
   "outputs": [
    {
     "name": "stdout",
     "output_type": "stream",
     "text": [
      "Se encuentra en la distribucion de 0 a 25 años\n",
      "Las edades ingresadas fueron [5]\n",
      "Se encuentra en la distribucion de 0 a 25 años\n",
      "Las edades ingresadas fueron [5, 3]\n",
      "Se encuentra en la distribucion de 0 a 25 años\n",
      "Las edades ingresadas fueron [5, 3, 6]\n",
      "Se encuentra en la distribucion de 0 a 25 años\n",
      "Las edades ingresadas fueron [5, 3, 6, 2]\n",
      "Se encuentra en la distribucion de 0 a 25 años\n",
      "Las edades ingresadas fueron [5, 3, 6, 2, 5]\n",
      "Se encuentra en la distribucion de 0 a 25 años\n",
      "Las edades ingresadas fueron [5, 3, 6, 2, 5, 6]\n",
      "Ingresó un numero negativo, no valido\n",
      "Las edades ingresadas fueron [5, 3, 6, 2, 5, 6, -6]\n"
     ]
    }
   ],
   "source": [
    "\n",
    "\n",
    "datosp=[]\n",
    "\n",
    "while pensionado>=0:\n",
    "    pensionado=int(input(\"Ingrese la edad del pensionado\"))\n",
    "    if 0<=pensionado<25:\n",
    "        print(\"Se encuentra en la distribucion de 0 a 25 años\")\n",
    "    elif 26<=pensionado<50:\n",
    "        print(\"Se encuentra en la distribucion de 26 a 50 años\")\n",
    "    elif 51<=pensionado<75:\n",
    "        print(\"Se encuentra en la distribucion de 51 a 75 años\")\n",
    "    elif 76<=pensionado<100:\n",
    "        print(\"Se encuentra en la distribucion de 76 a 100 años\")\n",
    "    else:\n",
    "        print(\"Ingresó un numero negativo, no valido\")\n",
    "    \n",
    "    datosp.append(pensionado)\n",
    "    print(\"Las edades ingresadas fueron\", datosp)\n",
    "\n",
    "    "
   ]
  },
  {
   "cell_type": "code",
   "execution_count": 54,
   "id": "ee3f2bb7",
   "metadata": {},
   "outputs": [
    {
     "name": "stdout",
     "output_type": "stream",
     "text": [
      "El candidato 1 tuvo 1 votos\n",
      "El candidato 2 tuvo 3 votos\n",
      "El candidato 3 tuvo 2 votos\n",
      "El candidato 4 tuvo 12 votos\n",
      "El voto en blanco tuvo 2 votos, correspondiendo al 10.0  porciento de los votos totales\n",
      "Fueron anulados  8 votos, correspondiendo al 40.0  porciento de los votos totales\n"
     ]
    }
   ],
   "source": [
    "cont1=0\n",
    "cont2=0\n",
    "cont3=0\n",
    "cont4=0\n",
    "cont5=0\n",
    "cont6=0\n",
    "for n in range(1,20):\n",
    "    votos=int(input(\"Inserte su voto para candidatos del 1 al 4, 6 para votar en blanco\"))\n",
    "\n",
    "    if votos==1:\n",
    "        cont1+=1\n",
    "    elif votos==2:\n",
    "        cont2+=1\n",
    "    elif votos==3:\n",
    "        cont3+=1\n",
    "    elif votos==4:\n",
    "        cont4+=4\n",
    "    elif votos==6:\n",
    "        cont6+=1\n",
    "    else:\n",
    "        cont5+=1\n",
    "\n",
    "print(\"El candidato 1 tuvo\", cont1, \"votos\")\n",
    "print(\"El candidato 2 tuvo\", cont2, \"votos\")\n",
    "print(\"El candidato 3 tuvo\", cont3, \"votos\")\n",
    "print(\"El candidato 4 tuvo\", cont4, \"votos\")\n",
    "print(\"El voto en blanco tuvo\", cont6, \"votos, correspondiendo al\", ((cont6*100)/20), \" porciento de los votos totales\")\n",
    "print(\"Fueron anulados \", cont5, \"votos, correspondiendo al\", ((cont5*100)/20), \" porciento de los votos totales\")\n",
    "\n"
   ]
  }
 ],
 "metadata": {
  "kernelspec": {
   "display_name": "base",
   "language": "python",
   "name": "python3"
  },
  "language_info": {
   "codemirror_mode": {
    "name": "ipython",
    "version": 3
   },
   "file_extension": ".py",
   "mimetype": "text/x-python",
   "name": "python",
   "nbconvert_exporter": "python",
   "pygments_lexer": "ipython3",
   "version": "3.11.7"
  }
 },
 "nbformat": 4,
 "nbformat_minor": 5
}
