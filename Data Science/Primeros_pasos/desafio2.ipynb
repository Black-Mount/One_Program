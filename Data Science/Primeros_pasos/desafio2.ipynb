{
 "cells": [
  {
   "cell_type": "markdown",
   "id": "e0b1b0af",
   "metadata": {},
   "source": [
    "Desafios manipulando datos en python"
   ]
  },
  {
   "cell_type": "markdown",
   "id": "cfb74d88",
   "metadata": {},
   "source": [
    "Recopilación y muestra de datos"
   ]
  },
  {
   "cell_type": "code",
   "execution_count": 2,
   "id": "9cb06557",
   "metadata": {},
   "outputs": [
    {
     "name": "stdout",
     "output_type": "stream",
     "text": [
      "Hola, santiago\n",
      "Hola santiago tienes 21 años\n",
      "Hola santiago tienes 21 años, y mides 1.76 metros\n"
     ]
    }
   ],
   "source": [
    "nombre=input(\"Inserta tu nombre\")\n",
    "print(\"Hola,\", nombre)\n",
    "\n",
    "edad=input(\"Inserta tu edad\")\n",
    "print(\"Hola\", nombre, \"tienes\", edad, \"años\")\n",
    "\n",
    "altura=input(\"Inserta tu altura en metros\")\n",
    "print(\"Hola\", nombre, \"tienes\", edad, \"años, y mides\", altura ,\"metros\")"
   ]
  },
  {
   "cell_type": "markdown",
   "id": "f69d9830",
   "metadata": {},
   "source": [
    "Calculadora con operadores"
   ]
  },
  {
   "cell_type": "code",
   "execution_count": 2,
   "id": "9029a84b",
   "metadata": {},
   "outputs": [
    {
     "name": "stdout",
     "output_type": "stream",
     "text": [
      "5\n",
      "9\n",
      "-1\n",
      "6\n",
      "0.6666666666666666\n",
      "1\n",
      "1\n",
      "2\n",
      "El promedio de notas es  5.0\n"
     ]
    }
   ],
   "source": [
    "a=int(input(\"Inserta 1 valor\"))\n",
    "b=int(input(\"Inserta 2 valor\"))\n",
    "c=int(input(\"Inserta 3 valor\"))\n",
    "print(a+b)\n",
    "print(a+b+c)\n",
    "print(a-b)\n",
    "print(a*b)\n",
    "print(a/b)\n",
    "print(a^b)\n",
    "print(round((a/b)))\n",
    "print(a%b)\n",
    "\n",
    "d=int(input(\"Inserte la nota 1\"))\n",
    "e=int(input(\"Inserte la nota 2\"))\n",
    "f=int(input(\"Inserte la nota 3\"))\n",
    "\n",
    "promedionotas=(d+e+f)/3\n",
    "print(\"El promedio de notas es \", promedionotas)\n"
   ]
  },
  {
   "cell_type": "markdown",
   "id": "07bbdb61",
   "metadata": {},
   "source": [
    "Editando texto"
   ]
  },
  {
   "cell_type": "code",
   "execution_count": 3,
   "id": "24d4f784",
   "metadata": {},
   "outputs": [
    {
     "name": "stdout",
     "output_type": "stream",
     "text": [
      "  esta es una frase  \n",
      "  ESTA ES UNA FRASE  \n",
      "  esta es una frase  \n",
      "esta es una frase\n",
      "esta es una frase\n",
      "  fsta fs una frasf  \n",
      "  est@ es un@ fr@se  \n",
      "  e$ta e$ una fra$e  \n"
     ]
    }
   ],
   "source": [
    "frase=input(\"Inserta una frase\")\n",
    "print(frase)\n",
    "print(frase.upper())\n",
    "print(frase.lower())\n",
    "print(frase.strip())\n",
    "\n",
    "print(frase.strip().lower())\n",
    "print(frase.replace(\"e\",\"f\"))\n",
    "print(frase.replace(\"a\",\"@\"))\n",
    "print(frase.replace(\"s\",\"$\"))"
   ]
  }
 ],
 "metadata": {
  "kernelspec": {
   "display_name": "base",
   "language": "python",
   "name": "python3"
  },
  "language_info": {
   "codemirror_mode": {
    "name": "ipython",
    "version": 3
   },
   "file_extension": ".py",
   "mimetype": "text/x-python",
   "name": "python",
   "nbconvert_exporter": "python",
   "pygments_lexer": "ipython3",
   "version": "3.11.7"
  }
 },
 "nbformat": 4,
 "nbformat_minor": 5
}
