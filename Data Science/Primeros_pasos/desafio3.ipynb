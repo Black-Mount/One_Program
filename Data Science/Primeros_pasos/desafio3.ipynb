{
 "cells": [
  {
   "cell_type": "markdown",
   "id": "43d7b04b",
   "metadata": {},
   "source": [
    "Entrenando la programación"
   ]
  },
  {
   "cell_type": "code",
   "execution_count": null,
   "id": "a58a8053",
   "metadata": {},
   "outputs": [
    {
     "name": "stdout",
     "output_type": "stream",
     "text": [
      "El numero mas grande es el numero 2\n",
      "El crecimiento fue positivo\n",
      "g es una consonante\n"
     ]
    }
   ],
   "source": [
    "numero1=int(input(\"Inserte un numero\"))\n",
    "numero2=int(input(\"Inserte otro numero\"))\n",
    "\n",
    "if numero1>numero2:\n",
    "    print(\"El numero mas grande es el numero1\")\n",
    "else:\n",
    "    print(\"El numero mas grande es el numero 2\")\n",
    "\n",
    "crecimiento=float(input(\"Cual fue el crecimiento de la empresa?\"))\n",
    "\n",
    "if crecimiento > 0:\n",
    "    print(\"El crecimiento fue positivo\")\n",
    "else:\n",
    "    print(\"El crecimiento fue negativo\")\n",
    "\n",
    "letra=input(\"inserte una letra\")\n",
    "\n",
    "\n",
    "if letra == \"a\" or letra ==\"e\" or letra==\"i\" or letra==\"o\" or letra==\"u\":\n",
    "    print(letra, \"Es una vocal\")\n",
    "else:\n",
    "    print(letra,\"es una consonante\")\n",
    "\n"
   ]
  },
  {
   "cell_type": "code",
   "execution_count": 26,
   "id": "461cebba",
   "metadata": {},
   "outputs": [
    {
     "name": "stdout",
     "output_type": "stream",
     "text": [
      "Año 2 es mayor\n",
      "Año 3 es menor\n",
      "El producto 3 es el mas barato a comprar\n",
      "2,1,3\n"
     ]
    }
   ],
   "source": [
    "ano1=500\n",
    "ano2=800\n",
    "ano3=100\n",
    "\n",
    "if ano1>ano2:\n",
    "    if ano1>ano3:\n",
    "        print(\"Año 1 es mayor\")\n",
    "        if ano2>ano3:\n",
    "            print(\"Año 3 es menor\")\n",
    "        else:\n",
    "            print(\"Año 2 es menor\")\n",
    "    else:\n",
    "        print(\"Año 3 es mayor\")\n",
    "        print(\"Año 2 es menor\")\n",
    "else:\n",
    "    if ano1>ano3:\n",
    "        print(\"Año 2 es mayor\")\n",
    "        print(\"Año 3 es menor\")\n",
    "    else:\n",
    "        print(\"Año 1 es menor\")\n",
    "        if ano2>ano3:\n",
    "            print(\"Año 2 es mayor\")\n",
    "        else:\n",
    "            print(\"Año 3 es mayor\")\n",
    "\n",
    "if ano1>ano2:\n",
    "    if ano1>ano3:\n",
    "        \n",
    "        if ano2>ano3:\n",
    "            print(\"El producto 3 es el mas barato a comprar\")\n",
    "        else:\n",
    "            print(\"El producto 2 es el mas barato a comprar\")\n",
    "    else:\n",
    "        print(\"El producto 2 es el mas barato a comprar\")\n",
    "else:\n",
    "    if ano1>ano3:\n",
    "        print(\"El producto 3 es el mas barato a comprar\")\n",
    "    else:\n",
    "        print(\"El producto 1 es el mas barato a comprar\")\n",
    "       \n",
    "\n",
    "if ano1>ano2:\n",
    "    if ano1>ano3:\n",
    "        \n",
    "        if ano2>ano3:\n",
    "            print(\"1,2,3\")\n",
    "        else:\n",
    "            print(\"1,3,2\")\n",
    "    else:\n",
    "        print(\"3,1,2\")\n",
    "else:\n",
    "    if ano1>ano3:\n",
    "        print(\"2,1,3\")\n",
    "    else:\n",
    "        if ano2>ano3:\n",
    "            print(\"2,3,1\")\n",
    "        else:\n",
    "            print(\"3,2,1\")"
   ]
  },
  {
   "cell_type": "code",
   "execution_count": null,
   "id": "55ae85bb",
   "metadata": {},
   "outputs": [],
   "source": [
    "saludo=input(\"En que turno estudias?\")\n",
    "\n",
    "if saludo ==\"mañana\":\n",
    "    print(\"buenos dias!\")\n",
    "elif saludo==\"tarde\":\n",
    "    print(\"buenas tardes\")\n",
    "else:\n",
    "    print(\"buenas noches\")\n",
    "\n"
   ]
  },
  {
   "cell_type": "code",
   "execution_count": null,
   "id": "92bd8852",
   "metadata": {},
   "outputs": [
    {
     "name": "stdout",
     "output_type": "stream",
     "text": [
      "buenas noches\n",
      "el numero es par\n"
     ]
    }
   ],
   "source": [
    "\n",
    "modulo=int(input(\"Inserte un numero para saber si es par o impar\"))\n",
    "resultado= modulo%2\n",
    "\n",
    "if resultado == 0:\n",
    "    print(\"el numero es par\")\n",
    "else:\n",
    "    print(\"el numero es impar\")\n",
    "\n",
    "decimal=float(input(\"Inserte un numero para saber si es entero o decimal\"))\n",
    "prueba=decimal-round(decimal)\n",
    "\n",
    "if prueba ==0:\n",
    "    print(\"el numero es entero\")\n",
    "else:\n",
    "    print(\"el numero es decimal\")"
   ]
  },
  {
   "cell_type": "code",
   "execution_count": 39,
   "id": "86ff4f57",
   "metadata": {},
   "outputs": [
    {
     "name": "stdout",
     "output_type": "stream",
     "text": [
      "El resultado es, -0.625\n",
      "el numero es impar\n",
      "el numero es decimal\n",
      "El numero es negativo\n"
     ]
    }
   ],
   "source": [
    "#Calculadora\n",
    "\n",
    "op1=float(input(\"Inserte un numero\"))\n",
    "op2=float(input(\"Inserte un segundo numero\"))\n",
    "\n",
    "proceso=input(\"Que operacion desea realizar (+,-,/,*)\")\n",
    "\n",
    "if proceso==\"+\":\n",
    "    result=op1+op2\n",
    "elif proceso==\"-\":\n",
    "    result=op1-op2\n",
    "elif proceso==\"*\":\n",
    "    result=op1*op2\n",
    "elif proceso==\"/\":\n",
    "    result=op1/op2\n",
    "\n",
    "print(\"El resultado es,\", result )\n",
    "resultado= result%2\n",
    "\n",
    "if resultado == 0:\n",
    "    print(\"el numero es par\")\n",
    "else:\n",
    "    print(\"el numero es impar\")\n",
    "\n",
    "prueba=result-round(result)\n",
    "\n",
    "if prueba ==0:\n",
    "    print(\"el numero es entero\")\n",
    "else:\n",
    "    print(\"el numero es decimal\")\n",
    "\n",
    "if result > 0:\n",
    "    print(\"El numero es positivo\")\n",
    "else:\n",
    "    print(\"El numero es negativo\")"
   ]
  },
  {
   "cell_type": "code",
   "execution_count": 19,
   "id": "e62ab8e0",
   "metadata": {},
   "outputs": [
    {
     "name": "stdout",
     "output_type": "stream",
     "text": [
      "Triangulo equilatero\n"
     ]
    }
   ],
   "source": [
    "ladoa=int(input(\"Inserte un lado\"))\n",
    "ladob=int(input(\"inserte lado 2\"))\n",
    "ladoc=int(input(\"Inserte un tercer lado\"))\n",
    "\n",
    "if ladoa==ladob:\n",
    "    #2 lados iguales\n",
    "    if ladoa==ladoc:\n",
    "        #3 lados iguales\n",
    "        print(\"Triangulo equilatero\")\n",
    "    else:\n",
    "    #2 lados iguales\n",
    "        print(\"Triangulo isosceles\")\n",
    "else:\n",
    "#Ya hay un lado diferente\n",
    "    if ladob==ladoc:\n",
    "        print(\"Triangulo isosceles\")\n",
    "    else:\n",
    "        if ladoa==ladoc:\n",
    "            print(\"Triangulo isosceles\")\n",
    "        else:\n",
    "            print(\"Triangulo escaleno\")\n",
    "\n"
   ]
  },
  {
   "cell_type": "code",
   "execution_count": 26,
   "id": "616105bd",
   "metadata": {},
   "outputs": [
    {
     "name": "stdout",
     "output_type": "stream",
     "text": [
      "40.0 %\n",
      "bonificacion para el equipo de ventas\n"
     ]
    }
   ],
   "source": [
    "a22=int(input(\"Inserte ventas del año 2022\"))\n",
    "a23=int(input(\"Inserte ventas del año 2023\"))\n",
    "\n",
    "variacion=((a23-a22)/a22)*100\n",
    "print(variacion, \"%\")\n",
    "\n",
    "if variacion>20:\n",
    "    print(\"bonificacion para el equipo de ventas\")\n",
    "elif  2< variacion <= 20:\n",
    "    print(\"pequeña bonificación para el equipo de ventas\")\n",
    "elif 2< variacion <= 10:\n",
    "    print(\"planificación de politicas de incentivo a las ventas\")\n",
    "elif variacion<10:\n",
    "    print(\"recorte de gastos\")"
   ]
  }
 ],
 "metadata": {
  "kernelspec": {
   "display_name": "base",
   "language": "python",
   "name": "python3"
  },
  "language_info": {
   "codemirror_mode": {
    "name": "ipython",
    "version": 3
   },
   "file_extension": ".py",
   "mimetype": "text/x-python",
   "name": "python",
   "nbconvert_exporter": "python",
   "pygments_lexer": "ipython3",
   "version": "3.11.7"
  }
 },
 "nbformat": 4,
 "nbformat_minor": 5
}
