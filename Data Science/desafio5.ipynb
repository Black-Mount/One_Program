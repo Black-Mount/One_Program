{
 "cells": [
  {
   "cell_type": "code",
   "execution_count": 11,
   "id": "d00b4c89",
   "metadata": {},
   "outputs": [
    {
     "name": "stdout",
     "output_type": "stream",
     "text": [
      "31442.22\n",
      "10\n",
      "3144.222\n"
     ]
    }
   ],
   "source": [
    "import random\n",
    "gastos= [2172.54, 3701.35, 3518.09, 3456.61, 3249.38, 2840.82, 3891.45, 3075.26, 2317.64, 3219.08]\n",
    "\n",
    "promediogastos=sum(gastos)/len(gastos)\n",
    "print(sum(gastos))\n",
    "print(len(gastos))\n",
    "print(promediogastos)"
   ]
  },
  {
   "cell_type": "code",
   "execution_count": 12,
   "id": "d21407c2",
   "metadata": {},
   "outputs": [
    {
     "name": "stdout",
     "output_type": "stream",
     "text": [
      "Hay un total de,  7 compras que superan los 3000, que corresponde al 70.0\n"
     ]
    }
   ],
   "source": [
    "tope=0\n",
    "for n in gastos:\n",
    "    if n>3000:\n",
    "        tope+=1\n",
    "print(\"Hay un total de, \", tope, \"compras que superan los 3000, que corresponde al\", (tope*100/len(gastos)))"
   ]
  },
  {
   "cell_type": "code",
   "execution_count": 45,
   "id": "a06e808c",
   "metadata": {},
   "outputs": [
    {
     "name": "stdout",
     "output_type": "stream",
     "text": [
      "[94, 100, 17, 15, 27]\n",
      "[27, 15, 17, 100, 94]\n"
     ]
    }
   ],
   "source": [
    "import random\n",
    "randomm=[]\n",
    "for m in range(0,5):\n",
    "    dato=(random.randint(0,100))\n",
    "    randomm.append(dato)\n",
    "\n",
    "\n",
    "\n",
    "\n",
    "print(randomm)\n",
    "randomm2=[]\n",
    "for j in range(4,-1,-1):\n",
    "  \n",
    "    randomm2.append(randomm[j])\n",
    "print(randomm2)    "
   ]
  },
  {
   "cell_type": "code",
   "execution_count": 80,
   "id": "4fe32c48",
   "metadata": {},
   "outputs": [
    {
     "name": "stdout",
     "output_type": "stream",
     "text": [
      "['12', '12', '2024']\n",
      "2\n",
      "la fecha 12/12/2024 es valida para el analisis\n"
     ]
    }
   ],
   "source": [
    "fecha=input(\"Ingrese la fecha en formato dd/mm/aaaa\")\n",
    "\n",
    "lista_palabras=fecha.split(\"/\")\n",
    "print(lista_palabras)\n",
    "print(len(lista_palabras[0]))\n",
    "\n",
    "if 0<int(lista_palabras[0])<=31:\n",
    "    if 0<int(lista_palabras[1])<=12:\n",
    "        if 0<int(lista_palabras[2])<2026:\n",
    "            print(\"la fecha\", fecha, \"es valida para el analisis\")\n",
    "    else:\n",
    "        print(\"Esta fecha no es valida para analisis\")\n",
    "else:\n",
    "    print(\"Esta fecha no es valida para analisis\")"
   ]
  },
  {
   "cell_type": "code",
   "execution_count": 15,
   "id": "dcc35a23",
   "metadata": {},
   "outputs": [
    {
     "name": "stdout",
     "output_type": "stream",
     "text": [
      "1 75.00000000000001\n",
      "2 57.14285714285713\n",
      "3 51.51515151515152\n",
      "4 55.99999999999999\n",
      "5 44.87179487179488\n",
      "6 46.902654867256636\n",
      "7 51.20481927710843\n",
      "8 50.59760956175297\n",
      "9 50.52910052910053\n"
     ]
    }
   ],
   "source": [
    "bacterias= [1.2, 2.1, 3.3, 5.0, 7.8, 11.3, 16.6, 25.1, 37.8, 56.9]\n",
    "\n",
    "\n",
    "for n in range(1,len(bacterias)):\n",
    "    porcentaje=((bacterias[n]- bacterias[n-1])/(bacterias[n-1]))*100\n",
    "    print(n, porcentaje)"
   ]
  },
  {
   "cell_type": "code",
   "execution_count": 18,
   "id": "140081bd",
   "metadata": {},
   "outputs": [
    {
     "name": "stdout",
     "output_type": "stream",
     "text": [
      "El numero es impar\n",
      "El numero es par\n",
      "El numero es impar\n",
      "El numero es par\n",
      "El numero es par\n",
      "El numero es impar\n",
      "El numero es impar\n",
      "El numero es par\n",
      "El numero es par\n",
      "El numero es impar\n",
      "De la lista de dulces con id [5, 6, 3, 2, 4, 5, 3, 6, 8, 7] 5 dulces son dulces y  5 dulces son amargos\n"
     ]
    }
   ],
   "source": [
    "IDdulce=[]\n",
    "ID_impar=[]\n",
    "idp=0\n",
    "idimp=0\n",
    "for m in range(0,10):\n",
    "    ID=int(input(\"Inserte el id\"))\n",
    "    IDdulce.append(ID)\n",
    "\n",
    "    if (ID%2)==0:\n",
    "        print(\"El numero es par\")\n",
    "        idp+=1\n",
    "    else:\n",
    "        print(\"El numero es impar\")\n",
    "        idimp+=1\n",
    "\n",
    "print(\"De la lista de dulces con id\",IDdulce,idp,\"dulces son dulces y \", idimp,\"dulces son amargos\")\n"
   ]
  },
  {
   "cell_type": "code",
   "execution_count": null,
   "id": "d2286bf1",
   "metadata": {},
   "outputs": [],
   "source": []
  },
  {
   "cell_type": "code",
   "execution_count": null,
   "id": "836b6bb0",
   "metadata": {},
   "outputs": [],
   "source": []
  },
  {
   "cell_type": "code",
   "execution_count": null,
   "id": "1938819f",
   "metadata": {},
   "outputs": [],
   "source": []
  },
  {
   "cell_type": "code",
   "execution_count": 29,
   "id": "a42b8590",
   "metadata": {},
   "outputs": [
    {
     "name": "stdout",
     "output_type": "stream",
     "text": [
      "['D', 'B', 'C', 'B', 'A', 'D', 'D', 'C', 'C', 'A']\n",
      "Obtuvo un puntaje de 6 /10\n"
     ]
    }
   ],
   "source": [
    "respuestas=[] #D,A,C,B,A,D,C,C,A,B\n",
    "total=0\n",
    "for x in range(0,10):\n",
    "    respuesta=input(\"Inserte su respuesta A/B/C/D\")\n",
    "    respuestas.append(respuesta)\n",
    "print(respuestas)\n",
    "\n",
    "if respuestas[0] == 'D':\n",
    "    total+=1\n",
    "if respuestas[1] == 'A':\n",
    "    total+=1\n",
    "if respuestas[2] == 'C':\n",
    "    total+=1\n",
    "if respuestas[3] == 'B':\n",
    "    total+=1\n",
    "if respuestas[4] == 'A':\n",
    "    total+=1\n",
    "if respuestas[5] == 'D':\n",
    "    total+=1\n",
    "if respuestas[6] == 'C':\n",
    "    total+=1\n",
    "if respuestas[7] == 'C':\n",
    "    total+=1\n",
    "if respuestas[8] == 'A':\n",
    "    total+=1\n",
    "if respuestas[9] == 'B':\n",
    "    total+=1\n",
    "\n",
    "print(\"Obtuvo un puntaje de\",total,\"/10\")"
   ]
  },
  {
   "cell_type": "code",
   "execution_count": null,
   "id": "c9279f2c",
   "metadata": {},
   "outputs": [
    {
     "name": "stdout",
     "output_type": "stream",
     "text": [
      "153.33333333333334\n"
     ]
    }
   ],
   "source": [
    "comercio={'Producto A': 300, 'Producto B': 80, 'Producto C': 60, 'Producto D': 200, 'Producto E': 250, 'Producto F': 30}\n",
    "promcomercio=(comercio['Producto A']+comercio['Producto B']+comercio['Producto C']+comercio['Producto D']+comercio['Producto E']+comercio['Producto F'])/len(comercio.keys())\n",
    "print(promcomercio)\n",
    "\n"
   ]
  },
  {
   "cell_type": "code",
   "execution_count": 33,
   "id": "b046d5d2",
   "metadata": {},
   "outputs": [
    {
     "name": "stdout",
     "output_type": "stream",
     "text": [
      "El diseño con mayor voto fue el  Diseño 5 con un  29.747043363994745 porciento\n"
     ]
    }
   ],
   "source": [
    "votosmarca={'Diseño 1':1334, 'Diseño 2':982, 'Diseño 3':1751, 'Diseño 4':210, 'Diseño 5':1811}\n",
    "valormaximo=max(votosmarca.values())\n",
    "registromaximo=max(votosmarca.keys())\n",
    "porcentajemarca=valormaximo*100/(votosmarca['Diseño 1']+votosmarca['Diseño 2']+votosmarca['Diseño 3']+votosmarca['Diseño 4']+votosmarca['Diseño 5'])\n",
    "\n",
    "print(\"El diseño con mayor voto fue el \", registromaximo, \"con un \", porcentajemarca, \"porciento\")"
   ]
  },
  {
   "cell_type": "code",
   "execution_count": 43,
   "id": "962c5e0d",
   "metadata": {},
   "outputs": [
    {
     "name": "stdout",
     "output_type": "stream",
     "text": [
      "[1172, 1644, 2617, 5130, 5532, 6341, 6650, 7238, 7685, 7782, 7903, 200]\n",
      "[261.7, 513.0, 553.2, 634.1, 665.0, 723.8000000000001, 768.5, 778.2, 790.3000000000001] con un total de  5687.8 cuyo valor mas alto fue 790.3000000000001\n"
     ]
    }
   ],
   "source": [
    "salario= [1172, 1644, 2617, 5130, 5532, 6341, 6650, 7238, 7685, 7782, 7903]\n",
    "bonificacion=[]\n",
    "for n in range(1,len(salario)):\n",
    "    \n",
    "    if salario[n]*0.1<=200:\n",
    "        salario.append(200)\n",
    "    else:\n",
    "        bonificacion.append(salario[n]*0.1)\n",
    "\n",
    "print(salario)\n",
    "print(bonificacion, \"con un total de \" ,sum(bonificacion),\"cuyo valor mas alto fue\", max(bonificacion))"
   ]
  },
  {
   "cell_type": "code",
   "execution_count": 59,
   "id": "2b468d78",
   "metadata": {},
   "outputs": [
    {
     "name": "stdout",
     "output_type": "stream",
     "text": [
      "166292\n",
      "5\n",
      "16629.2\n"
     ]
    }
   ],
   "source": [
    "diversidad={'Área Norte': [2819, 7236], 'Área Leste': [1440, 9492], 'Área Sul': [5969, 7496], 'Área Oeste': [14446, 49688], 'Área Centro': [22558, 45148]}\n",
    "suma=diversidad['Área Centro']+diversidad['Área Leste']+diversidad['Área Norte']+diversidad['Área Oeste']+diversidad['Área Sul']\n",
    "print(sum(suma))\n",
    "print(int(len(diversidad.values())))\n",
    "promediodiversidad=sum(suma)/(int(len(diversidad.values()))*2)\n",
    "print(promediodiversidad)"
   ]
  },
  {
   "cell_type": "code",
   "execution_count": 69,
   "id": "3bd6618f",
   "metadata": {},
   "outputs": [
    {
     "name": "stdout",
     "output_type": "stream",
     "text": [
      "La edad media de cada sector es, 39.9 42.3 35.8 36.5 un promedio de todos los sectores de,  38.625\n",
      "En Setor A hay 4 valores mayores a 38.625\n",
      "En Setor B hay 6 valores mayores a 38.625\n",
      "En Setor C hay 3 valores mayores a 38.625\n",
      "En Setor D hay 5 valores mayores a 38.625\n"
     ]
    }
   ],
   "source": [
    "recursos={'Setor A': [22, 26, 30, 30, 35, 38, 40, 56, 57, 65],\n",
    " 'Setor B': [22, 24, 26, 33, 41, 49, 50, 54, 60, 64],\n",
    " 'Setor C': [23, 26, 26, 29, 34, 35, 36, 41, 52, 56],\n",
    " 'Setor D': [19, 20, 25, 27, 34, 39, 42, 44, 50, 65]}\n",
    "\n",
    "setora=sum(recursos['Setor A'])/len(recursos['Setor A'])\n",
    "setorb=sum(recursos['Setor B'])/len(recursos['Setor B'])\n",
    "setorc=sum(recursos['Setor C'])/len(recursos['Setor C'])\n",
    "setord=sum(recursos['Setor D'])/len(recursos['Setor D'])\n",
    "\n",
    "totiii=(sum(recursos['Setor A'])+sum(recursos['Setor B'])+sum(recursos['Setor C'])+sum(recursos['Setor D']))/(len(recursos['Setor A'])*4)\n",
    "\n",
    "\n",
    "\n",
    "print(\"La edad media de cada sector es,\",setora,setorb,setorc,setord,\"un promedio de todos los sectores de, \",totiii)\n",
    "\n",
    "for setor, valores in recursos.items():\n",
    "    contador = 0\n",
    "    for valor in valores:\n",
    "        if valor > totiii:\n",
    "            contador += 1\n",
    "    print(f\"En {setor} hay {contador} valores mayores a {totiii}\")"
   ]
  },
  {
   "cell_type": "code",
   "execution_count": null,
   "id": "2d304d84",
   "metadata": {},
   "outputs": [],
   "source": []
  }
 ],
 "metadata": {
  "kernelspec": {
   "display_name": "base",
   "language": "python",
   "name": "python3"
  },
  "language_info": {
   "codemirror_mode": {
    "name": "ipython",
    "version": 3
   },
   "file_extension": ".py",
   "mimetype": "text/x-python",
   "name": "python",
   "nbconvert_exporter": "python",
   "pygments_lexer": "ipython3",
   "version": "3.11.7"
  }
 },
 "nbformat": 4,
 "nbformat_minor": 5
}
